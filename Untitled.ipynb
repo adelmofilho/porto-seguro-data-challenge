{
 "cells": [
  {
   "cell_type": "markdown",
   "id": "afb046c3",
   "metadata": {},
   "source": [
    "#### Importação de bibliotecas"
   ]
  },
  {
   "cell_type": "code",
   "execution_count": 1,
   "id": "f5ca74b6",
   "metadata": {},
   "outputs": [
    {
     "name": "stderr",
     "output_type": "stream",
     "text": [
      "/home/aadelmo/Projects/porto-seguro-data-challenge/.env/lib/python3.8/site-packages/tpot/builtins/__init__.py:36: UserWarning: Warning: optional dependency `torch` is not available. - skipping import of NN models.\n",
      "  warnings.warn(\"Warning: optional dependency `torch` is not available. - skipping import of NN models.\")\n"
     ]
    }
   ],
   "source": [
    "import numpy as np\n",
    "import pandas as pd\n",
    "import lightgbm as lgb\n",
    "import seaborn as sns\n",
    "import matplotlib.pyplot as plt\n",
    "from tpot import TPOTClassifier\n",
    "\n",
    "from pathlib import Path\n",
    "from sklearn.model_selection import train_test_split"
   ]
  },
  {
   "cell_type": "code",
   "execution_count": 2,
   "id": "2fc9ca88",
   "metadata": {},
   "outputs": [],
   "source": [
    "pd.set_option('display.max_colwidth', None)"
   ]
  },
  {
   "cell_type": "markdown",
   "id": "e2488005",
   "metadata": {},
   "source": [
    "#### Configuration"
   ]
  },
  {
   "cell_type": "code",
   "execution_count": 3,
   "id": "0044ba61",
   "metadata": {},
   "outputs": [],
   "source": [
    "raw_data_dir = Path(\"data/raw/\")"
   ]
  },
  {
   "cell_type": "markdown",
   "id": "ac2fffc3",
   "metadata": {},
   "source": [
    "#### Load data"
   ]
  },
  {
   "cell_type": "code",
   "execution_count": 4,
   "id": "7dd5a732",
   "metadata": {},
   "outputs": [],
   "source": [
    "train_valid = pd.read_csv(Path(raw_data_dir, \"train.csv\"))\n",
    "test        = pd.read_csv(Path(raw_data_dir, \"test.csv\"))\n",
    "metadata    = pd.read_csv(Path(raw_data_dir, \"metadata.csv\"))\n",
    "submission  = pd.read_csv(Path(raw_data_dir, \"submission_sample.csv\"))"
   ]
  },
  {
   "cell_type": "code",
   "execution_count": 5,
   "id": "f7b4841b",
   "metadata": {},
   "outputs": [],
   "source": [
    "target = \"y\"\n",
    "ids = \"id\"\n",
    "variables = [\n",
    "    'var1', 'var2', 'var3', 'var4', 'var5', 'var6', 'var7', 'var8', 'var9', \n",
    "    'var10', 'var11', 'var12', 'var13', 'var14', 'var15', 'var16',\n",
    "    'var17', 'var18', 'var19', 'var20', 'var21', 'var22', 'var23', 'var24',\n",
    "    'var25', 'var26', 'var27', 'var28', 'var29', 'var30', 'var31', 'var32',\n",
    "    'var33', 'var34', 'var35', 'var36', 'var37', 'var38', 'var39', 'var40',\n",
    "    'var41', 'var42', 'var43', 'var44', 'var45', 'var46', 'var47', 'var48',\n",
    "    'var49', 'var50', 'var51', 'var52', 'var53', 'var54', 'var55', 'var56',\n",
    "    'var57', 'var58', 'var59', 'var60', 'var61', 'var62', 'var63', 'var64',\n",
    "    'var65', 'var66', 'var67', 'var68']"
   ]
  },
  {
   "cell_type": "markdown",
   "id": "4a97bc22",
   "metadata": {},
   "source": [
    "#### Variable types"
   ]
  },
  {
   "cell_type": "code",
   "execution_count": 6,
   "id": "d067d513",
   "metadata": {},
   "outputs": [
    {
     "data": {
      "text/html": [
       "<div>\n",
       "<style scoped>\n",
       "    .dataframe tbody tr th:only-of-type {\n",
       "        vertical-align: middle;\n",
       "    }\n",
       "\n",
       "    .dataframe tbody tr th {\n",
       "        vertical-align: top;\n",
       "    }\n",
       "\n",
       "    .dataframe thead th {\n",
       "        text-align: right;\n",
       "    }\n",
       "</style>\n",
       "<table border=\"1\" class=\"dataframe\">\n",
       "  <thead>\n",
       "    <tr style=\"text-align: right;\">\n",
       "      <th></th>\n",
       "      <th>type</th>\n",
       "      <th>variable</th>\n",
       "    </tr>\n",
       "  </thead>\n",
       "  <tbody>\n",
       "    <tr>\n",
       "      <th>0</th>\n",
       "      <td>Qualitativo nominal</td>\n",
       "      <td>[id, var1, var2, var3, var4, var5, var6, var7, var8, var9, var10, var11, var12, var13, var14, var15, var16, var17, var18, var19, var20, var21, var22, var23, var28, var29, var30, var31, var33, var34, var35, var36, var37, var38, var39, var41]</td>\n",
       "    </tr>\n",
       "    <tr>\n",
       "      <th>1</th>\n",
       "      <td>Qualitativo ordinal</td>\n",
       "      <td>[var26, var32, var42, var43]</td>\n",
       "    </tr>\n",
       "    <tr>\n",
       "      <th>2</th>\n",
       "      <td>Quantitativo continua</td>\n",
       "      <td>[var55, var56, var57, var58, var59, var60, var61, var62, var63, var64, var65, var66]</td>\n",
       "    </tr>\n",
       "    <tr>\n",
       "      <th>3</th>\n",
       "      <td>Quantitativo discreto</td>\n",
       "      <td>[var24, var25, var27, var40, var44, var45, var46, var47, var48, var49, var50, var51, var52, var53, var54, var67, var68, y]</td>\n",
       "    </tr>\n",
       "  </tbody>\n",
       "</table>\n",
       "</div>"
      ],
      "text/plain": [
       "                    type  \\\n",
       "0    Qualitativo nominal   \n",
       "1    Qualitativo ordinal   \n",
       "2  Quantitativo continua   \n",
       "3  Quantitativo discreto   \n",
       "\n",
       "                                                                                                                                                                                                                                           variable  \n",
       "0  [id, var1, var2, var3, var4, var5, var6, var7, var8, var9, var10, var11, var12, var13, var14, var15, var16, var17, var18, var19, var20, var21, var22, var23, var28, var29, var30, var31, var33, var34, var35, var36, var37, var38, var39, var41]  \n",
       "1                                                                                                                                                                                                                      [var26, var32, var42, var43]  \n",
       "2                                                                                                                                                              [var55, var56, var57, var58, var59, var60, var61, var62, var63, var64, var65, var66]  \n",
       "3                                                                                                                        [var24, var25, var27, var40, var44, var45, var46, var47, var48, var49, var50, var51, var52, var53, var54, var67, var68, y]  "
      ]
     },
     "execution_count": 6,
     "metadata": {},
     "output_type": "execute_result"
    }
   ],
   "source": [
    "meta = metadata.rename(columns={\"Variavel cod\": \"variable\", \"Variavel tipo\": \"type\"})\n",
    "meta_table =  meta.groupby(by=\"type\", as_index=False).count()\n",
    "meta_table[\"variable\"] = [meta[meta[\"type\"] == x][\"variable\"].tolist() for x in meta_table[\"type\"]]\n",
    "meta_table"
   ]
  },
  {
   "cell_type": "markdown",
   "id": "8934bd88",
   "metadata": {},
   "source": [
    "#### Train and Validation Split"
   ]
  },
  {
   "cell_type": "code",
   "execution_count": 7,
   "id": "1ec707c4",
   "metadata": {},
   "outputs": [],
   "source": [
    "X_train, X_valid, y_train, y_valid = train_test_split(train_valid[variables], train_valid[[target]], \n",
    "                                                      test_size=0.25, \n",
    "                                                      random_state=4233)"
   ]
  },
  {
   "cell_type": "code",
   "execution_count": 8,
   "id": "26d1f3f0",
   "metadata": {},
   "outputs": [],
   "source": [
    "train = pd.concat([y_train, X_train], axis=1)\n",
    "valid = pd.concat([y_valid, X_valid], axis=1)"
   ]
  },
  {
   "cell_type": "code",
   "execution_count": null,
   "id": "17b6dcbd",
   "metadata": {},
   "outputs": [],
   "source": [
    "perc_train = y_train.reset_index().\\\n",
    "    groupby(by=\"y\", as_index=False).\\\n",
    "    count()/int(y_train.count())\n",
    "\n",
    "perc_valid = y_valid.reset_index().\\\n",
    "    groupby(by=\"y\", as_index=False).\\\n",
    "    count()/int(y_valid.count())\n",
    "\n",
    "perc_total = train_valid[[target]].reset_index().\\\n",
    "    groupby(by=\"y\", as_index=False).\\\n",
    "    count()/int(train_valid[[target]].count())\n",
    "\n",
    "pd.concat([perc_train[[\"index\"]].rename(columns={\"index\": \"train\"}),\n",
    "          perc_valid[[\"index\"]].rename(columns={\"index\": \"valid\"}),\n",
    "          perc_total[[\"index\"]].rename(columns={\"index\": \"total\"})],\n",
    "          axis=1)"
   ]
  },
  {
   "cell_type": "markdown",
   "id": "e97ce630",
   "metadata": {},
   "source": [
    "#### Data Exploration"
   ]
  },
  {
   "cell_type": "code",
   "execution_count": null,
   "id": "01435526",
   "metadata": {},
   "outputs": [],
   "source": [
    "vars_ordinal  = meta_table[meta_table[\"type\"]==\"Qualitativo ordinal\"][\"variable\"].tolist()[0]\n",
    "vars_ordinal"
   ]
  },
  {
   "cell_type": "code",
   "execution_count": null,
   "id": "3861f722",
   "metadata": {},
   "outputs": [],
   "source": [
    "train_ordinal = train[[\"y\"] + vars_ordinal]\n",
    "melt_orginal  = pd.melt(train[[\"y\"] + vars_ordinal], id_vars=[\"y\"])\n",
    "melt_orginal.head()"
   ]
  },
  {
   "cell_type": "code",
   "execution_count": null,
   "id": "afa7c805",
   "metadata": {},
   "outputs": [],
   "source": [
    "count_ordinal = melt_orginal.\\\n",
    "    reset_index().\\\n",
    "    groupby(by=[\"variable\", \"value\", \"y\"], as_index=False).\\\n",
    "    count()"
   ]
  },
  {
   "cell_type": "code",
   "execution_count": null,
   "id": "dad33e74",
   "metadata": {},
   "outputs": [],
   "source": [
    "perct_ordinal = count_ordinal.\\\n",
    "    groupby(by=[\"variable\", \"value\", \"y\"]).agg({'index': 'sum'}).\\\n",
    "    groupby(by=[\"variable\", \"value\"], level=0).apply(lambda x:100 * x / float(x.sum())).reset_index()\n",
    "\n",
    "perct_ordinal.head()"
   ]
  },
  {
   "cell_type": "code",
   "execution_count": null,
   "id": "02e23d23",
   "metadata": {},
   "outputs": [],
   "source": [
    "var = \"var26\"\n",
    "fig, axs = plt.subplots(ncols=1, nrows=2, figsize = (14,8) )\n",
    "\n",
    "ax1 = sns.barplot(ax=axs[0],x=\"value\", y=\"index\", hue=\"y\", data=count_ordinal[count_ordinal[\"variable\"]==var])\n",
    "ax2 = sns.barplot(ax=axs[1],x=\"value\", y=\"index\", hue=\"y\", data=perct_ordinal[perct_ordinal[\"variable\"]==var])"
   ]
  },
  {
   "cell_type": "code",
   "execution_count": null,
   "id": "9b5bae2b",
   "metadata": {},
   "outputs": [],
   "source": [
    "var = \"var32\"\n",
    "fig, axs = plt.subplots(ncols=1, nrows=2, figsize = (14,8) )\n",
    "\n",
    "ax1 = sns.barplot(ax=axs[0],x=\"value\", y=\"index\", hue=\"y\", data=count_ordinal[count_ordinal[\"variable\"]==var])\n",
    "ax2 = sns.barplot(ax=axs[1],x=\"value\", y=\"index\", hue=\"y\", data=perct_ordinal[perct_ordinal[\"variable\"]==var])"
   ]
  },
  {
   "cell_type": "markdown",
   "id": "3f42e65a",
   "metadata": {},
   "source": [
    "#### Variável 42"
   ]
  },
  {
   "cell_type": "code",
   "execution_count": null,
   "id": "ba16f188",
   "metadata": {},
   "outputs": [],
   "source": [
    "var = \"var42\"\n",
    "fig, axs = plt.subplots(ncols=1, nrows=2, figsize = (14,8) )\n",
    "\n",
    "ax1 = sns.barplot(ax=axs[0],x=\"value\", y=\"index\", hue=\"y\", data=count_ordinal[count_ordinal[\"variable\"]==var])\n",
    "ax2 = sns.barplot(ax=axs[1],x=\"value\", y=\"index\", hue=\"y\", data=perct_ordinal[perct_ordinal[\"variable\"]==var])"
   ]
  },
  {
   "cell_type": "code",
   "execution_count": null,
   "id": "1735302d",
   "metadata": {},
   "outputs": [],
   "source": [
    "var = \"var43\"\n",
    "fig, axs = plt.subplots(ncols=1, nrows=2, figsize = (14,8) )\n",
    "\n",
    "ax1 = sns.barplot(ax=axs[0],x=\"value\", y=\"index\", hue=\"y\", data=count_ordinal[count_ordinal[\"variable\"]==var])\n",
    "ax2 = sns.barplot(ax=axs[1],x=\"value\", y=\"index\", hue=\"y\", data=perct_ordinal[perct_ordinal[\"variable\"]==var])"
   ]
  },
  {
   "cell_type": "markdown",
   "id": "b65abe8c",
   "metadata": {},
   "source": [
    "#### Train Model"
   ]
  },
  {
   "cell_type": "code",
   "execution_count": null,
   "id": "0105ef4b",
   "metadata": {},
   "outputs": [],
   "source": [
    "x = train[variables]\n",
    "y = train[target]"
   ]
  },
  {
   "cell_type": "code",
   "execution_count": null,
   "id": "45339c8f",
   "metadata": {},
   "outputs": [],
   "source": [
    "train_data = lgb.Dataset(x, label = y)"
   ]
  },
  {
   "cell_type": "code",
   "execution_count": null,
   "id": "279f4655",
   "metadata": {},
   "outputs": [],
   "source": [
    "param = {'objective': 'binary'}\n",
    "param['metric'] = 'f1'"
   ]
  },
  {
   "cell_type": "code",
   "execution_count": null,
   "id": "13034ab8",
   "metadata": {},
   "outputs": [],
   "source": []
  },
  {
   "cell_type": "code",
   "execution_count": null,
   "id": "49ecc65e",
   "metadata": {},
   "outputs": [],
   "source": [
    "bst = lgb.train(param, train_data)"
   ]
  },
  {
   "cell_type": "code",
   "execution_count": null,
   "id": "8f5baa18",
   "metadata": {},
   "outputs": [],
   "source": [
    "a = np.rint(bst.predict(test[variables])).tolist()"
   ]
  },
  {
   "cell_type": "code",
   "execution_count": null,
   "id": "032c14c2",
   "metadata": {},
   "outputs": [],
   "source": [
    "submission[\"predicted\"] = [int(a) for a in a]"
   ]
  },
  {
   "cell_type": "code",
   "execution_count": null,
   "id": "b06984bc",
   "metadata": {},
   "outputs": [],
   "source": [
    "submission"
   ]
  },
  {
   "cell_type": "code",
   "execution_count": null,
   "id": "e8f9c9db",
   "metadata": {},
   "outputs": [],
   "source": [
    "submission.to_csv(\"secondsubmission.csv\", index=None)"
   ]
  },
  {
   "cell_type": "code",
   "execution_count": null,
   "id": "61ca6c16",
   "metadata": {},
   "outputs": [],
   "source": []
  },
  {
   "cell_type": "markdown",
   "id": "df88afed",
   "metadata": {},
   "source": [
    "#### Tpot"
   ]
  },
  {
   "cell_type": "code",
   "execution_count": 30,
   "id": "b54dfed0",
   "metadata": {},
   "outputs": [],
   "source": [
    "from sklearn.metrics import f1_score, make_scorer"
   ]
  },
  {
   "cell_type": "code",
   "execution_count": 31,
   "id": "55fc0a6f",
   "metadata": {},
   "outputs": [],
   "source": [
    "scorer = make_scorer(f1_score)"
   ]
  },
  {
   "cell_type": "code",
   "execution_count": 9,
   "id": "ef2973fc",
   "metadata": {},
   "outputs": [
    {
     "name": "stdout",
     "output_type": "stream",
     "text": [
      "32 operators have been imported by TPOT.\n"
     ]
    },
    {
     "data": {
      "application/vnd.jupyter.widget-view+json": {
       "model_id": "",
       "version_major": 2,
       "version_minor": 0
      },
      "text/plain": [
       "Optimization Progress:   0%|          | 0/30 [00:00<?, ?pipeline/s]"
      ]
     },
     "metadata": {},
     "output_type": "display_data"
    },
    {
     "name": "stdout",
     "output_type": "stream",
     "text": [
      "_pre_test decorator: _random_mutation_operator: num_test=0 Unsupported set of arguments: The combination of penalty='l1' and loss='hinge' is not supported, Parameters: penalty='l1', loss='hinge', dual=False.\n",
      "\n",
      "Generation 1 - Current Pareto front scores:\n",
      "\n",
      "-1\t0.8664081574994172\tXGBClassifier(input_matrix, XGBClassifier__learning_rate=0.001, XGBClassifier__max_depth=9, XGBClassifier__min_child_weight=7, XGBClassifier__n_estimators=100, XGBClassifier__n_jobs=1, XGBClassifier__subsample=0.45, XGBClassifier__verbosity=0)\n",
      "\n",
      "-2\t0.8700898966631773\tRandomForestClassifier(MinMaxScaler(input_matrix), RandomForestClassifier__bootstrap=True, RandomForestClassifier__criterion=gini, RandomForestClassifier__max_features=0.2, RandomForestClassifier__min_samples_leaf=8, RandomForestClassifier__min_samples_split=4, RandomForestClassifier__n_estimators=100)\n",
      "\n",
      "Generation 2 - Current Pareto front scores:\n",
      "\n",
      "-1\t0.8699012175019754\tRandomForestClassifier(input_matrix, RandomForestClassifier__bootstrap=True, RandomForestClassifier__criterion=gini, RandomForestClassifier__max_features=0.2, RandomForestClassifier__min_samples_leaf=8, RandomForestClassifier__min_samples_split=4, RandomForestClassifier__n_estimators=100)\n",
      "\n",
      "-2\t0.8700898966631773\tRandomForestClassifier(MinMaxScaler(input_matrix), RandomForestClassifier__bootstrap=True, RandomForestClassifier__criterion=gini, RandomForestClassifier__max_features=0.2, RandomForestClassifier__min_samples_leaf=8, RandomForestClassifier__min_samples_split=4, RandomForestClassifier__n_estimators=100)\n",
      "\n",
      "Generation 3 - Current Pareto front scores:\n",
      "\n",
      "-1\t0.8699012175019754\tRandomForestClassifier(input_matrix, RandomForestClassifier__bootstrap=True, RandomForestClassifier__criterion=gini, RandomForestClassifier__max_features=0.2, RandomForestClassifier__min_samples_leaf=8, RandomForestClassifier__min_samples_split=4, RandomForestClassifier__n_estimators=100)\n",
      "\n",
      "-2\t0.8700898966631773\tRandomForestClassifier(MinMaxScaler(input_matrix), RandomForestClassifier__bootstrap=True, RandomForestClassifier__criterion=gini, RandomForestClassifier__max_features=0.2, RandomForestClassifier__min_samples_leaf=8, RandomForestClassifier__min_samples_split=4, RandomForestClassifier__n_estimators=100)\n",
      "\n",
      "Generation 4 - Current Pareto front scores:\n",
      "\n",
      "-1\t0.8699012175019754\tRandomForestClassifier(input_matrix, RandomForestClassifier__bootstrap=True, RandomForestClassifier__criterion=gini, RandomForestClassifier__max_features=0.2, RandomForestClassifier__min_samples_leaf=8, RandomForestClassifier__min_samples_split=4, RandomForestClassifier__n_estimators=100)\n",
      "\n",
      "-2\t0.8700898966631773\tRandomForestClassifier(MinMaxScaler(input_matrix), RandomForestClassifier__bootstrap=True, RandomForestClassifier__criterion=gini, RandomForestClassifier__max_features=0.2, RandomForestClassifier__min_samples_leaf=8, RandomForestClassifier__min_samples_split=4, RandomForestClassifier__n_estimators=100)\n",
      "Pipeline encountered that has previously been evaluated during the optimization process. Using the score from the previous evaluation.\n",
      "\n",
      "Generation 5 - Current Pareto front scores:\n",
      "\n",
      "-1\t0.8699012175019754\tRandomForestClassifier(input_matrix, RandomForestClassifier__bootstrap=True, RandomForestClassifier__criterion=gini, RandomForestClassifier__max_features=0.2, RandomForestClassifier__min_samples_leaf=8, RandomForestClassifier__min_samples_split=4, RandomForestClassifier__n_estimators=100)\n",
      "\n",
      "-2\t0.871600488587228\tRandomForestClassifier(MinMaxScaler(input_matrix), RandomForestClassifier__bootstrap=False, RandomForestClassifier__criterion=gini, RandomForestClassifier__max_features=0.2, RandomForestClassifier__min_samples_leaf=8, RandomForestClassifier__min_samples_split=4, RandomForestClassifier__n_estimators=100)\n"
     ]
    },
    {
     "data": {
      "text/plain": [
       "TPOTClassifier(generations=5, population_size=5, random_state=42, verbosity=3)"
      ]
     },
     "execution_count": 9,
     "metadata": {},
     "output_type": "execute_result"
    }
   ],
   "source": [
    "tpot = TPOTClassifier(verbosity=3, random_state=42,scoring=scorer)\n",
    "tpot.fit(X_train, y_train[\"y\"])"
   ]
  },
  {
   "cell_type": "code",
   "execution_count": 11,
   "id": "92f634ba",
   "metadata": {},
   "outputs": [
    {
     "name": "stdout",
     "output_type": "stream",
     "text": [
      "0.9486404833836858\n"
     ]
    },
    {
     "name": "stderr",
     "output_type": "stream",
     "text": [
      "/home/aadelmo/Projects/porto-seguro-data-challenge/.env/lib/python3.8/site-packages/sklearn/utils/validation.py:63: DataConversionWarning: A column-vector y was passed when a 1d array was expected. Please change the shape of y to (n_samples, ), for example using ravel().\n",
      "  return f(*args, **kwargs)\n"
     ]
    }
   ],
   "source": [
    "print(tpot.score(X_train, y_train))"
   ]
  },
  {
   "cell_type": "code",
   "execution_count": 10,
   "id": "c50f92ef",
   "metadata": {},
   "outputs": [
    {
     "name": "stdout",
     "output_type": "stream",
     "text": [
      "0.8660436137071651\n"
     ]
    },
    {
     "name": "stderr",
     "output_type": "stream",
     "text": [
      "/home/aadelmo/Projects/porto-seguro-data-challenge/.env/lib/python3.8/site-packages/sklearn/utils/validation.py:63: DataConversionWarning: A column-vector y was passed when a 1d array was expected. Please change the shape of y to (n_samples, ), for example using ravel().\n",
      "  return f(*args, **kwargs)\n"
     ]
    }
   ],
   "source": [
    "print(tpot.score(X_valid, y_valid))"
   ]
  },
  {
   "cell_type": "code",
   "execution_count": 14,
   "id": "74697db5",
   "metadata": {},
   "outputs": [
    {
     "data": {
      "text/plain": [
       "(3531, 68)"
      ]
     },
     "execution_count": 14,
     "metadata": {},
     "output_type": "execute_result"
    }
   ],
   "source": [
    "X_valid.shape"
   ]
  },
  {
   "cell_type": "code",
   "execution_count": 19,
   "id": "2f592889",
   "metadata": {},
   "outputs": [
    {
     "data": {
      "text/html": [
       "<div>\n",
       "<style scoped>\n",
       "    .dataframe tbody tr th:only-of-type {\n",
       "        vertical-align: middle;\n",
       "    }\n",
       "\n",
       "    .dataframe tbody tr th {\n",
       "        vertical-align: top;\n",
       "    }\n",
       "\n",
       "    .dataframe thead th {\n",
       "        text-align: right;\n",
       "    }\n",
       "</style>\n",
       "<table border=\"1\" class=\"dataframe\">\n",
       "  <thead>\n",
       "    <tr style=\"text-align: right;\">\n",
       "      <th></th>\n",
       "      <th>id</th>\n",
       "      <th>predicted</th>\n",
       "    </tr>\n",
       "  </thead>\n",
       "  <tbody>\n",
       "    <tr>\n",
       "      <th>0</th>\n",
       "      <td>0</td>\n",
       "      <td>1</td>\n",
       "    </tr>\n",
       "    <tr>\n",
       "      <th>1</th>\n",
       "      <td>2</td>\n",
       "      <td>1</td>\n",
       "    </tr>\n",
       "    <tr>\n",
       "      <th>2</th>\n",
       "      <td>4</td>\n",
       "      <td>1</td>\n",
       "    </tr>\n",
       "    <tr>\n",
       "      <th>3</th>\n",
       "      <td>7</td>\n",
       "      <td>0</td>\n",
       "    </tr>\n",
       "    <tr>\n",
       "      <th>4</th>\n",
       "      <td>15</td>\n",
       "      <td>1</td>\n",
       "    </tr>\n",
       "    <tr>\n",
       "      <th>...</th>\n",
       "      <td>...</td>\n",
       "      <td>...</td>\n",
       "    </tr>\n",
       "    <tr>\n",
       "      <th>21178</th>\n",
       "      <td>35297</td>\n",
       "      <td>0</td>\n",
       "    </tr>\n",
       "    <tr>\n",
       "      <th>21179</th>\n",
       "      <td>35298</td>\n",
       "      <td>0</td>\n",
       "    </tr>\n",
       "    <tr>\n",
       "      <th>21180</th>\n",
       "      <td>35300</td>\n",
       "      <td>0</td>\n",
       "    </tr>\n",
       "    <tr>\n",
       "      <th>21181</th>\n",
       "      <td>35302</td>\n",
       "      <td>1</td>\n",
       "    </tr>\n",
       "    <tr>\n",
       "      <th>21182</th>\n",
       "      <td>35303</td>\n",
       "      <td>0</td>\n",
       "    </tr>\n",
       "  </tbody>\n",
       "</table>\n",
       "<p>21183 rows × 2 columns</p>\n",
       "</div>"
      ],
      "text/plain": [
       "          id  predicted\n",
       "0          0          1\n",
       "1          2          1\n",
       "2          4          1\n",
       "3          7          0\n",
       "4         15          1\n",
       "...      ...        ...\n",
       "21178  35297          0\n",
       "21179  35298          0\n",
       "21180  35300          0\n",
       "21181  35302          1\n",
       "21182  35303          0\n",
       "\n",
       "[21183 rows x 2 columns]"
      ]
     },
     "execution_count": 19,
     "metadata": {},
     "output_type": "execute_result"
    }
   ],
   "source": [
    "submission"
   ]
  },
  {
   "cell_type": "code",
   "execution_count": 21,
   "id": "8dba363b",
   "metadata": {},
   "outputs": [],
   "source": [
    "a = np.rint(tpot.predict(test[variables])).tolist()"
   ]
  },
  {
   "cell_type": "code",
   "execution_count": 22,
   "id": "137bef7d",
   "metadata": {},
   "outputs": [],
   "source": [
    "submission[\"predicted\"] = [int(a) for a in a]"
   ]
  },
  {
   "cell_type": "code",
   "execution_count": 29,
   "id": "a2177af2",
   "metadata": {},
   "outputs": [],
   "source": [
    "submission.to_csv(\"thirdsubmission.csv\", index=None)"
   ]
  },
  {
   "cell_type": "code",
   "execution_count": null,
   "id": "cbf82c01",
   "metadata": {},
   "outputs": [],
   "source": []
  }
 ],
 "metadata": {
  "kernelspec": {
   "display_name": "Python 3 (ipykernel)",
   "language": "python",
   "name": "python3"
  },
  "language_info": {
   "codemirror_mode": {
    "name": "ipython",
    "version": 3
   },
   "file_extension": ".py",
   "mimetype": "text/x-python",
   "name": "python",
   "nbconvert_exporter": "python",
   "pygments_lexer": "ipython3",
   "version": "3.8.10"
  }
 },
 "nbformat": 4,
 "nbformat_minor": 5
}
